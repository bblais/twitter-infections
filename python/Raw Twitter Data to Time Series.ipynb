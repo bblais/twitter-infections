{
 "cells": [
  {
   "cell_type": "code",
   "execution_count": 29,
   "metadata": {
    "collapsed": false
   },
   "outputs": [
    {
     "name": "stdout",
     "output_type": "stream",
     "text": [
      "Populating the interactive namespace from numpy and matplotlib\n"
     ]
    },
    {
     "name": "stderr",
     "output_type": "stream",
     "text": [
      "WARNING: pylab import has clobbered these variables: ['power', 'f', 'info', 'normal', 'linalg', 'pylab', 'random', 'datetime', 'fft', 'gamma', 'histogram']\n",
      "`%matplotlib` prevents importing * from pylab and numpy\n"
     ]
    }
   ],
   "source": [
    "%pylab inline"
   ]
  },
  {
   "cell_type": "code",
   "execution_count": 30,
   "metadata": {
    "collapsed": true
   },
   "outputs": [],
   "source": [
    "from science import *\n",
    "from Waitbar import Waitbar\n",
    "import os,sys\n",
    "import pandas as pd\n",
    "import gzip\n",
    "import json"
   ]
  },
  {
   "cell_type": "code",
   "execution_count": 31,
   "metadata": {
    "collapsed": true
   },
   "outputs": [],
   "source": [
    "second=1\n",
    "minute=60*second\n",
    "hour=60*minute\n",
    "day=24*hour"
   ]
  },
  {
   "cell_type": "code",
   "execution_count": 32,
   "metadata": {
    "collapsed": true
   },
   "outputs": [],
   "source": [
    "class NumpyAwareJSONEncoder(json.JSONEncoder):\n",
    "    def default(self, obj):\n",
    "        if isinstance(obj, np.ndarray):\n",
    "            if obj.ndim == 1:\n",
    "                return obj.tolist()\n",
    "            else:\n",
    "                return [self.default(obj[i]) for i in range(obj.shape[0])]\n",
    "        return json.JSONEncoder.default(self, obj)"
   ]
  },
  {
   "cell_type": "code",
   "execution_count": 33,
   "metadata": {
    "collapsed": true
   },
   "outputs": [],
   "source": [
    "from pytz import timezone\n",
    "from datetime import datetime,timedelta\n",
    "\n",
    "def to_datetime(datestring,tzstr='utc'):\n",
    "    created_at = datetime.strptime(datestring, '%a %b %d %H:%M:%S +0000 %Y')\n",
    "    \n",
    "    if 'utc' in tzstr.lower():\n",
    "        tz = timezone('UTC')\n",
    "        return tz.localize(created_at)\n",
    "\n",
    "    if 'eastern' in tzstr.lower() or 'est'==tzstr.lower():\n",
    "        tz = timezone('US/Eastern')\n",
    "        return tz.localize(created_at)\n",
    "    \n",
    "def unix_time(dt):\n",
    "    epoch = datetime.datetime.utcfromtimestamp(0)\n",
    "    delta = dt - epoch\n",
    "    return delta.total_seconds()\n",
    "    "
   ]
  },
  {
   "cell_type": "markdown",
   "metadata": {},
   "source": [
    "## Load the Raw File"
   ]
  },
  {
   "cell_type": "code",
   "execution_count": 34,
   "metadata": {
    "collapsed": false
   },
   "outputs": [],
   "source": [
    "#which_file='../data/raw_twitter_data'\n",
    "which_file='../data/saved_twitter_data_jskaza'\n",
    "if os.path.exists(which_file+\".json\"):  \n",
    "    with open(which_file+\".json\",'r') as fid:\n",
    "        data=json.load(fid)\n",
    "elif os.path.exists(which_file+\".json.gz\"):  \n",
    "    with gzip.open(which_file+\".json.gz\",'r') as fid:\n",
    "        data=json.load(fid)        \n",
    "else:\n",
    "    raise ValueError,\"only doing json this time\""
   ]
  },
  {
   "cell_type": "markdown",
   "metadata": {},
   "source": [
    "## Sort"
   ]
  },
  {
   "cell_type": "code",
   "execution_count": 35,
   "metadata": {
    "collapsed": false
   },
   "outputs": [
    {
     "data": {
      "text/plain": [
       "(2114, 1892, 1298, 1012, 924, 832, 783, 721, 707, 598)"
      ]
     },
     "execution_count": 35,
     "metadata": {},
     "output_type": "execute_result"
    }
   ],
   "source": [
    "keys=data.keys()\n",
    "L=[len(data[key]['x']) for key in keys]\n",
    "L,keys=zip(*sorted(zip(L,keys),reverse=True))\n",
    "L[:10]"
   ]
  },
  {
   "cell_type": "code",
   "execution_count": 36,
   "metadata": {
    "collapsed": false
   },
   "outputs": [
    {
     "data": {
      "text/plain": [
       "[u'NYY',\n",
       " u'NYR',\n",
       " u'NYS',\n",
       " u'WaysToAttractAMate',\n",
       " u'OOTD',\n",
       " u'NYC',\n",
       " u'GigglePitComedy',\n",
       " u'happybirthday',\n",
       " u'swag',\n",
       " u'Job']"
      ]
     },
     "execution_count": 36,
     "metadata": {},
     "output_type": "execute_result"
    }
   ],
   "source": [
    "data.keys()[:10]"
   ]
  },
  {
   "cell_type": "markdown",
   "metadata": {},
   "source": [
    "## Find min/max times"
   ]
  },
  {
   "cell_type": "code",
   "execution_count": 37,
   "metadata": {
    "collapsed": false
   },
   "outputs": [],
   "source": [
    "max_t=None\n",
    "min_t=None\n",
    "for key in data:\n",
    "    mx=max(data[key]['x'])\n",
    "    mn=min(data[key]['x'])\n",
    "    \n",
    "    if max_t is None:\n",
    "        max_t=mx\n",
    "    elif max_t<mx:\n",
    "        max_t=mx\n",
    "        \n",
    "        \n",
    "    if min_t is None:\n",
    "        min_t=mn\n",
    "    elif min_t>mn:\n",
    "        min_t=mn\n",
    "\n",
    "# so we can use them as index vars\n",
    "max_t=int(max_t)\n",
    "min_t=int(min_t)"
   ]
  },
  {
   "cell_type": "code",
   "execution_count": 38,
   "metadata": {
    "collapsed": false
   },
   "outputs": [
    {
     "data": {
      "text/plain": [
       "'3 d, 6 h, 43 m, 19.00 s'"
      ]
     },
     "execution_count": 38,
     "metadata": {},
     "output_type": "execute_result"
    }
   ],
   "source": [
    "time2str(max_t-min_t)"
   ]
  },
  {
   "cell_type": "markdown",
   "metadata": {},
   "source": [
    "## Make some time series"
   ]
  },
  {
   "cell_type": "code",
   "execution_count": 39,
   "metadata": {
    "collapsed": false
   },
   "outputs": [],
   "source": [
    "series_names=['time series days','time series minutes',\n",
    "              'time series ten minutes','time series hours']\n",
    "\n",
    "\n",
    "series=series_names[0]\n",
    "\n",
    "if series=='time series days':\n",
    "    window=day\n",
    "elif series=='time series hours':\n",
    "    window=hour\n",
    "elif series=='time series minutes':\n",
    "    window=minute\n",
    "elif series=='time series ten minutes':\n",
    "    window=10*minute\n",
    "elif series=='time series ten seconds':\n",
    "    window=second\n",
    "else:\n",
    "    raise ValueError,\"window not found\"\n",
    "    \n",
    "f=0.01"
   ]
  },
  {
   "cell_type": "markdown",
   "metadata": {},
   "source": [
    "## Only do a subset for a demo?"
   ]
  },
  {
   "cell_type": "code",
   "execution_count": 42,
   "metadata": {
    "collapsed": true
   },
   "outputs": [],
   "source": [
    "keys=keys[:5]"
   ]
  },
  {
   "cell_type": "code",
   "execution_count": 43,
   "metadata": {
    "collapsed": false
   },
   "outputs": [
    {
     "name": "stdout",
     "output_type": "stream",
     "text": [
      "Doing Convolution on  NYC ...\n",
      "Doing Convolution on  nyc ...\n",
      "Doing Convolution on  Hiring ...\n",
      "Doing Convolution on  job ...\n",
      "Doing Convolution on  NewYork ...\n",
      "../data/saved_twitter_data_jskaza_subseries.json.gz\n"
     ]
    }
   ],
   "source": [
    "n=16\n",
    "nc=ceil(sqrt(n));\n",
    "nr=ceil(n/nc);\n",
    "count=0\n",
    "all_series=[]\n",
    "\n",
    "for key in keys:\n",
    "    \n",
    "    print \"Doing Convolution on \",key,\"...\"\n",
    "    \n",
    "    \n",
    "    for series in series_names:\n",
    "        if series=='time series days':\n",
    "            window=day\n",
    "        elif series=='time series hours':\n",
    "            window=hour\n",
    "        elif series=='time series minutes':\n",
    "            window=minute\n",
    "        elif series=='time series ten minutes':\n",
    "            window=10*minute\n",
    "        else:\n",
    "            raise ValueError,\"window not found\"\n",
    "    \n",
    "\n",
    "        y=array(data[key]['y'])\n",
    "        t=array(data[key]['x'],dtype=int)\n",
    "\n",
    "        t,y=array(t),array(y)\n",
    "\n",
    "        t=t-min(t)\n",
    "\n",
    "        t_full=arange(0,max(t)-min(t)+1)\n",
    "        y_full=zeros(len(t_full))\n",
    "        y_full[t]=y    \n",
    "\n",
    "\n",
    "        t,y=t_full,y_full\n",
    "\n",
    "        if len(y)<window:  # too short of a twitter activity\n",
    "            continue\n",
    "\n",
    "\n",
    "        yy=y/float(window)*float(hour)  # normalize to events per hour\n",
    "        tt=t/float(window)\n",
    "\n",
    "        if 'days' in series:\n",
    "            tt=tt[::10]\n",
    "            yy=yy[::10]\n",
    "            yy=np.convolve(yy,ones(window/10),'same')\n",
    "        else:\n",
    "            yy=np.convolve(yy,ones(window),'same')\n",
    "\n",
    "        \n",
    "        try:\n",
    "            idx_zero_before_max=where(yy[:argmax(yy)]==0)[0][-1]\n",
    "\n",
    "            top=max(yy)\n",
    "            idx_zero_before_max=where(yy[:argmax(yy)]<(f*top))[0][-1]\n",
    "        except IndexError:  # no zero before min\n",
    "            idx_zero_before_max=0\n",
    "\n",
    "        try:\n",
    "            idx_zero_after_max=where(yy[argmax(yy):]==0)[0][0]+argmax(yy)\n",
    "\n",
    "            top=max(yy)\n",
    "            idx_zero_after_max=where(yy[argmax(yy):]<(f*top))[0][0]+argmax(yy)\n",
    "        except IndexError:  # no zero after max\n",
    "            idx_zero_after_max=len(yy)-1\n",
    "\n",
    "\n",
    "        t1,t2=tt[idx_zero_before_max],tt[idx_zero_after_max]\n",
    "\n",
    "        t2=t2-t1\n",
    "        t=tt-t1\n",
    "        y=yy\n",
    "\n",
    "        y=y[(t>0) & (t<t2)]\n",
    "        t=t[(t>0) & (t<t2)]\n",
    "\n",
    "\n",
    "        single_series={}\n",
    "        single_series['filename']=which_file\n",
    "        single_series['series']=series\n",
    "        single_series['window']=window\n",
    "        single_series['peak f']=f\n",
    "        single_series['tag']=key\n",
    "        single_series['t']=t\n",
    "        single_series['y']=y\n",
    "\n",
    "        all_series.append(single_series)\n",
    "\n",
    "        \n",
    "save_fname=which_file+\"_subseries.json.gz\"\n",
    "print save_fname\n",
    "\n",
    "with gzip.open(save_fname,'w') as fid:\n",
    "    json.dump(all_series,fid,cls=NumpyAwareJSONEncoder)\n"
   ]
  },
  {
   "cell_type": "code",
   "execution_count": null,
   "metadata": {
    "collapsed": true
   },
   "outputs": [],
   "source": []
  }
 ],
 "metadata": {
  "kernelspec": {
   "display_name": "Python 2",
   "language": "python",
   "name": "python2"
  },
  "language_info": {
   "codemirror_mode": {
    "name": "ipython",
    "version": 2
   },
   "file_extension": ".py",
   "mimetype": "text/x-python",
   "name": "python",
   "nbconvert_exporter": "python",
   "pygments_lexer": "ipython2",
   "version": "2.7.11"
  }
 },
 "nbformat": 4,
 "nbformat_minor": 0
}
