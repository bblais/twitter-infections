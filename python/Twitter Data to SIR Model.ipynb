{
 "cells": [
  {
   "cell_type": "code",
   "execution_count": 13,
   "metadata": {
    "collapsed": false
   },
   "outputs": [
    {
     "name": "stdout",
     "output_type": "stream",
     "text": [
      "Populating the interactive namespace from numpy and matplotlib\n"
     ]
    }
   ],
   "source": [
    "%pylab inline"
   ]
  },
  {
   "cell_type": "code",
   "execution_count": 14,
   "metadata": {
    "collapsed": true
   },
   "outputs": [],
   "source": [
    "from Waitbar import Waitbar\n",
    "import os,sys\n",
    "import pandas as pd\n",
    "import gzip\n",
    "import json"
   ]
  },
  {
   "cell_type": "code",
   "execution_count": 15,
   "metadata": {
    "collapsed": true
   },
   "outputs": [],
   "source": [
    "from pyndamics import *\n",
    "from pyndamics.emcee import *"
   ]
  },
  {
   "cell_type": "code",
   "execution_count": 16,
   "metadata": {
    "collapsed": true
   },
   "outputs": [],
   "source": [
    "class NumpyAwareJSONEncoder(json.JSONEncoder):\n",
    "    def default(self, obj):\n",
    "        if isinstance(obj, np.ndarray):\n",
    "            if obj.ndim == 1:\n",
    "                return obj.tolist()\n",
    "            else:\n",
    "                return [self.default(obj[i]) for i in range(obj.shape[0])]\n",
    "        return json.JSONEncoder.default(self, obj)"
   ]
  },
  {
   "cell_type": "code",
   "execution_count": 17,
   "metadata": {
    "collapsed": true
   },
   "outputs": [],
   "source": [
    "from pytz import timezone\n",
    "from datetime import datetime,timedelta\n",
    "\n",
    "def to_datetime(datestring,tzstr='utc'):\n",
    "    created_at = datetime.strptime(datestring, '%a %b %d %H:%M:%S +0000 %Y')\n",
    "    \n",
    "    if 'utc' in tzstr.lower():\n",
    "        tz = timezone('UTC')\n",
    "        return tz.localize(created_at)\n",
    "\n",
    "    if 'eastern' in tzstr.lower() or 'est'==tzstr.lower():\n",
    "        tz = timezone('US/Eastern')\n",
    "        return tz.localize(created_at)\n",
    "    \n",
    "def unix_time(dt):\n",
    "    epoch = datetime.datetime.utcfromtimestamp(0)\n",
    "    delta = dt - epoch\n",
    "    return delta.total_seconds()\n",
    "    "
   ]
  },
  {
   "cell_type": "code",
   "execution_count": 18,
   "metadata": {
    "collapsed": true
   },
   "outputs": [],
   "source": [
    "which_file='../data/saved_twitter_data_jskaza'\n",
    "#which_file='saved_twitter_data_bblais'\n",
    "if os.path.exists(which_file+\".json\"):  \n",
    "    with open(which_file+\".json\",'r') as fid:\n",
    "        mydata=json.load(fid)\n",
    "elif os.path.exists(which_file+\".json.gz\"):  \n",
    "    with gzip.open(which_file+\".json.gz\",'r') as fid:\n",
    "        mydata=json.load(fid)        \n",
    "else:\n",
    "    raise ValueError,\"only doing json this time\""
   ]
  },
  {
   "cell_type": "code",
   "execution_count": 19,
   "metadata": {
    "collapsed": true
   },
   "outputs": [],
   "source": [
    "keys=mydata.keys()\n",
    "L=[len(mydata[key]['x']) for key in keys]"
   ]
  },
  {
   "cell_type": "code",
   "execution_count": 20,
   "metadata": {
    "collapsed": false
   },
   "outputs": [
    {
     "data": {
      "text/plain": [
       "(4655, 4025, 3521, 2758, 2644, 2217, 2192, 1944, 1849, 1727)"
      ]
     },
     "execution_count": 20,
     "metadata": {},
     "output_type": "execute_result"
    }
   ],
   "source": [
    "L,keys=zip(*sorted(zip(L,keys),reverse=True))\n",
    "L[:10]"
   ]
  },
  {
   "cell_type": "code",
   "execution_count": 21,
   "metadata": {
    "collapsed": true
   },
   "outputs": [],
   "source": [
    "max_t=None\n",
    "min_t=None\n",
    "for key in mydata:\n",
    "    mx=max(mydata[key]['x'])\n",
    "    mn=min(mydata[key]['x'])\n",
    "    \n",
    "    if max_t is None:\n",
    "        max_t=mx\n",
    "    elif max_t<mx:\n",
    "        max_t=mx\n",
    "        \n",
    "        \n",
    "    if min_t is None:\n",
    "        min_t=mn\n",
    "    elif min_t>mn:\n",
    "        min_t=mn\n",
    "\n",
    "# so we can use them as index vars\n",
    "max_t=int(max_t)\n",
    "min_t=int(min_t)"
   ]
  },
  {
   "cell_type": "code",
   "execution_count": 22,
   "metadata": {
    "collapsed": false
   },
   "outputs": [
    {
     "data": {
      "text/plain": [
       "'1 d, 15 h, 54 m, 19.00 s'"
      ]
     },
     "execution_count": 22,
     "metadata": {},
     "output_type": "execute_result"
    }
   ],
   "source": [
    "time2str(max_t-min_t)"
   ]
  },
  {
   "cell_type": "code",
   "execution_count": 23,
   "metadata": {
    "collapsed": true
   },
   "outputs": [],
   "source": [
    "window=60*2*100\n",
    "min_count=5"
   ]
  },
  {
   "cell_type": "code",
   "execution_count": null,
   "metadata": {
    "collapsed": false
   },
   "outputs": [],
   "source": [
    "save_fname='../data/mcmc_data_nyc_hours.json'\n",
    "if os.path.exists(save_fname):  \n",
    "    with open(save_fname,'r') as fid:\n",
    "        mcmc_data=json.load(fid)\n",
    "else:\n",
    "    mcmc_data={}\n",
    "\n",
    "if not which_file in mcmc_data:\n",
    "    mcmc_data[which_file]={}\n",
    "    \n",
    "\n",
    "fit_data=mcmc_data[which_file]\n",
    "\n",
    "n=16\n",
    "nc=ceil(sqrt(n));\n",
    "nr=ceil(n/nc);\n",
    "count=0\n",
    "for key in keys:\n",
    "    \n",
    "    if count%n==0:\n",
    "        figure(figsize=(20,20))\n",
    "    \n",
    "    timeit(reset=True)\n",
    "    \n",
    "    if key in fit_data and 'posteriors' in fit_data[key]:\n",
    "        count+=1\n",
    "        print \"Skipping \",key,\"...already done.\"\n",
    "        continue\n",
    "        \n",
    "    print \"Doing Convolution on \",key,\"...\"\n",
    "        \n",
    "    y=array(mydata[key]['y'])\n",
    "    t=array(mydata[key]['x'],dtype=int)\n",
    "    t=t-min_t\n",
    "    \n",
    "    t_full=arange(0,max_t-min_t+1)\n",
    "    y_full=zeros(len(t_full))\n",
    "    y_full[t]=y    \n",
    "    \n",
    "    t,y=t_full,y_full\n",
    "    \n",
    "    yy=y\n",
    "    tt=t\n",
    "    \n",
    "    yy=np.convolve(yy,ones(window),'same')\n",
    "    if max(yy)<min_count:\n",
    "        continue\n",
    "\n",
    "\n",
    "    try:\n",
    "        idx_zero_before_max=where(yy[:argmax(yy)]==0)[0][-1]\n",
    "    except IndexError:  # no zero before min\n",
    "        idx_zero_before_max=0\n",
    "    \n",
    "    try:\n",
    "        idx_zero_after_max=where(yy[argmax(yy):]==0)[0][0]+argmax(yy)\n",
    "    except IndexError:  # no zero after max\n",
    "        idx_zero_after_max=len(yy)-1\n",
    "        \n",
    "    \n",
    "    t1,t2=tt[idx_zero_before_max],tt[idx_zero_after_max]\n",
    "        \n",
    "        \n",
    "    print \"Doing MCMC on \",key,\"...\"\n",
    "    \n",
    "    t2=t2-t1\n",
    "    t=tt-t1\n",
    "    y=yy\n",
    "\n",
    "    y=y[(t>0) & (t<t2)]\n",
    "    t=t[(t>0) & (t<t2)]\n",
    "    \n",
    "    \n",
    "    \n",
    "    fit_data[key]={}\n",
    "    fit_data[key]['t']=t\n",
    "    fit_data[key]['y']=y\n",
    "    \n",
    "\n",
    "    S0=500.0  # not so huge initial population\n",
    "    sim=Simulation()\n",
    "    sim.add(\"S'=-beta*S/S0*I\",S0,plot=False)\n",
    "    sim.add(\"I'=beta*S/S0*I-gamma*I\",1,plot=False)  # start with a small infection\n",
    "    sim.add(\"R'=gamma*I\",0,plot=False)\n",
    "    sim.params(S0=S0, beta=1/400.0,gamma=1/600.0)\n",
    "    sim.add_data(t=t,I=y,plot=False)   # offset the time of the increase\n",
    "    sim.run(0,max(t)*2)\n",
    "    \n",
    "    model=MCMCModel(sim, \n",
    "                    beta=Uniform(0,.5),\n",
    "                    gamma=Uniform(0,.5),\n",
    "                    )\n",
    "    model.verbose=False\n",
    "    model.run_mcmc(500)\n",
    "    model.set_initial_values('samples')\n",
    "    model.run_mcmc(500)\n",
    "    \n",
    "    fit_data[key]['best_estimates']=model.best_estimates()    \n",
    "    fit_data[key]['percentiles']=model.percentiles([2.5,50,97.5])  \n",
    "    \n",
    "    posteriors={}\n",
    "    for paramkey in model.keys:\n",
    "        b1,b2=model.percentiles([.5,99.5])[paramkey]\n",
    "        bins=linspace(b1,b2,500)\n",
    "        i=model.index[paramkey]\n",
    "        x,px=histogram(model.samples[:,i],bins=bins,plot=False)    \n",
    "        posteriors[paramkey]={'x':x,'px':px}\n",
    "    fit_data[key]['posteriors']=posteriors\n",
    "    \n",
    "    subplot(nr,nc,(count%n)+1)\n",
    "    I=sim['I']\n",
    "    t=sim['t']\n",
    "    Ic=sim.get_component('I')\n",
    "\n",
    "    td=Ic.data['t']\n",
    "    Id=Ic.data['value']\n",
    "\n",
    "    plot(t,I,'-')\n",
    "    plot(td,Id,'-o')    \n",
    "    \n",
    "    title(key[:40])\n",
    "    \n",
    "    with open(save_fname,'w') as fid:\n",
    "        json.dump(mcmc_data,fid,cls=NumpyAwareJSONEncoder)    \n",
    "    \n",
    "    print timeit()\n",
    "    \n",
    "    count+=1"
   ]
  },
  {
   "cell_type": "code",
   "execution_count": null,
   "metadata": {
    "collapsed": true
   },
   "outputs": [],
   "source": []
  }
 ],
 "metadata": {
  "kernelspec": {
   "display_name": "Python 2",
   "language": "python",
   "name": "python2"
  },
  "language_info": {
   "codemirror_mode": {
    "name": "ipython",
    "version": 2
   },
   "file_extension": ".py",
   "mimetype": "text/x-python",
   "name": "python",
   "nbconvert_exporter": "python",
   "pygments_lexer": "ipython2",
   "version": "2.7.11"
  }
 },
 "nbformat": 4,
 "nbformat_minor": 0
}
