{
 "cells": [
  {
   "cell_type": "code",
   "execution_count": 10,
   "metadata": {
    "collapsed": true
   },
   "outputs": [],
   "source": [
    "import tweepy\n",
    "from time import time\n",
    "import pandas as pd\n",
    "import os,sys\n",
    "import json\n",
    "\n",
    "time_between_save=60*10  # 10 minutes\n",
    "save_fname='../data/test_data.json'"
   ]
  },
  {
   "cell_type": "code",
   "execution_count": 11,
   "metadata": {
    "collapsed": true
   },
   "outputs": [],
   "source": [
    "from tweepy import Stream\n",
    "from tweepy import OAuthHandler\n",
    "from tweepy.streaming import StreamListener"
   ]
  },
  {
   "cell_type": "code",
   "execution_count": 12,
   "metadata": {
    "collapsed": true
   },
   "outputs": [],
   "source": [
    "from pytz import timezone\n",
    "from datetime import datetime,timedelta\n",
    "\n",
    "def to_datetime(datestring,tzstr='utc'):\n",
    "    created_at = datetime.strptime(datestring, '%a %b %d %H:%M:%S +0000 %Y')\n",
    "    \n",
    "    if 'utc' in tzstr.lower():\n",
    "        tz = timezone('UTC')\n",
    "        return tz.localize(created_at)\n",
    "\n",
    "    if 'eastern' in tzstr.lower() or 'est'==tzstr.lower():\n",
    "        tz = timezone('US/Eastern')\n",
    "        return tz.localize(created_at)\n",
    "    \n",
    "def unix_time(dt):\n",
    "    epoch = datetime.utcfromtimestamp(0)\n",
    "    delta = dt - epoch\n",
    "    return delta.total_seconds()\n",
    "    "
   ]
  },
  {
   "cell_type": "markdown",
   "metadata": {},
   "source": [
    "Put your twitter authentication creds in a json file , like:\n",
    "\n",
    "    {\"csecret\": \"xxxxxxxx\", \"ckey\": \"xxxxxxxxxx\", \"asecret\": \"xxxxxxxxxx\", \"atoken\": \"xxxxxxxxxx\"}"
   ]
  },
  {
   "cell_type": "code",
   "execution_count": 13,
   "metadata": {
    "collapsed": true
   },
   "outputs": [],
   "source": [
    "with open('../../auth.json') as fid:\n",
    "    auth_data=json.load(fid)\n",
    "    \n",
    "ckey,csecret,atoken,asecret=[auth_data[key]\n",
    "                             for key in ['ckey','csecret','atoken','asecret']]    "
   ]
  },
  {
   "cell_type": "code",
   "execution_count": 14,
   "metadata": {
    "collapsed": false
   },
   "outputs": [
    {
     "name": "stdout",
     "output_type": "stream",
     "text": [
      "Starting Fresh...\n"
     ]
    }
   ],
   "source": [
    "global mydata,last_save_time,start_time,onedata\n",
    "\n",
    "if os.path.exists(save_fname):\n",
    "    print \"Starting with %s...\" % save_fname\n",
    "    with open(save_fname,'r') as fid:\n",
    "        mydata=json.load(fid)\n",
    "else:\n",
    "    print \"Starting Fresh...\"\n",
    "    mydata={}\n",
    "    \n",
    "start_time=None\n",
    "last_save_time=-1000"
   ]
  },
  {
   "cell_type": "code",
   "execution_count": 15,
   "metadata": {
    "collapsed": true
   },
   "outputs": [],
   "source": [
    "class listener(StreamListener):\n",
    "\n",
    "    def on_data(self, data):\n",
    "        global mydata,last_save_time,start_time,onedata\n",
    "        \n",
    "        false=False\n",
    "        true=True\n",
    "        null=None        \n",
    "        data=eval(data)  # change json to dictionary\n",
    "        \n",
    "        try:\n",
    "            timestr=data['created_at']\n",
    "        except KeyError:\n",
    "            return True\n",
    "            \n",
    "        hashtags=[x['text'] for x in data['entities']['hashtags']]\n",
    "        \n",
    "        onedata=data\n",
    "        \n",
    "        if not hashtags:\n",
    "            return True\n",
    "\n",
    "        with open(\"raw_tweet_lines.txt\",\"a\") as fid:\n",
    "            line=\"%s,%s,%s\\n\" % (timestr,str(data['geo']),str(hashtags))\n",
    "            fid.write(line)\n",
    "                      \n",
    "        print line\n",
    "        \n",
    "        dt=to_datetime(timestr)\n",
    "        dt = dt.replace(tzinfo=None)        \n",
    "        dt=unix_time(dt)\n",
    "            \n",
    "        for tag in hashtags:\n",
    "            if tag not in mydata:                \n",
    "                mydata[tag]={'x':[],'y':[],}\n",
    "        \n",
    "            try:\n",
    "                idx=mydata[tag]['x'].index(dt)\n",
    "                mydata[tag]['y'][idx]+=1\n",
    "            except ValueError:                \n",
    "                mydata[tag]['x'].append(dt)\n",
    "                mydata[tag]['y'].append(1)\n",
    "        \n",
    "            mydata[tag]['geo']=data['geo']\n",
    "            \n",
    "        print dt,data['geo'],hashtags\n",
    "        \n",
    "        if time()>(last_save_time+time_between_save):\n",
    "            last_save_time=time()\n",
    "            \n",
    "            with open(save_fname,'w') as fid:\n",
    "                json.dump(mydata,fid)    \n",
    "            print \"All data Saved...\"\n",
    "        \n",
    "        return True\n",
    "\n",
    "    def on_error(self, status):\n",
    "        print \"on_error called: \",status\n",
    "        sys.stdout.flush()\n",
    "\n",
    "\n",
    "def start_listening():\n",
    "    L=listener()\n",
    "    twitterStream = Stream(auth, L)\n",
    "    twitterStream.filter(track=[\"#\"])\n"
   ]
  },
  {
   "cell_type": "code",
   "execution_count": null,
   "metadata": {
    "collapsed": false
   },
   "outputs": [],
   "source": [
    "auth = OAuthHandler(ckey, csecret)\n",
    "auth.set_access_token(atoken, asecret)\n",
    "start_listening()"
   ]
  },
  {
   "cell_type": "code",
   "execution_count": null,
   "metadata": {
    "collapsed": true
   },
   "outputs": [],
   "source": []
  }
 ],
 "metadata": {
  "kernelspec": {
   "display_name": "Python 2",
   "language": "python",
   "name": "python2"
  },
  "language_info": {
   "codemirror_mode": {
    "name": "ipython",
    "version": 2
   },
   "file_extension": ".py",
   "mimetype": "text/x-python",
   "name": "python",
   "nbconvert_exporter": "python",
   "pygments_lexer": "ipython2",
   "version": "2.7.11"
  }
 },
 "nbformat": 4,
 "nbformat_minor": 0
}
