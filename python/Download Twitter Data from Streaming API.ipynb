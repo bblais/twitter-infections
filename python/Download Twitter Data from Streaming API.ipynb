{
 "cells": [
  {
   "cell_type": "code",
   "execution_count": 14,
   "metadata": {
    "collapsed": true
   },
   "outputs": [],
   "source": [
    "import tweepy\n",
    "from time import time\n",
    "import os,sys\n",
    "import json\n",
    "import gzip\n",
    "\n",
    "time_between_save=60*10  # 10 minutes\n",
    "save_fname='../data/raw_twitter_data.json.gz'"
   ]
  },
  {
   "cell_type": "code",
   "execution_count": 15,
   "metadata": {
    "collapsed": true
   },
   "outputs": [],
   "source": [
    "from tweepy import Stream\n",
    "from tweepy import OAuthHandler\n",
    "from tweepy.streaming import StreamListener"
   ]
  },
  {
   "cell_type": "code",
   "execution_count": 16,
   "metadata": {
    "collapsed": true
   },
   "outputs": [],
   "source": [
    "from pytz import timezone\n",
    "from datetime import datetime,timedelta\n",
    "\n",
    "def to_datetime(datestring,tzstr='utc'):\n",
    "    created_at = datetime.strptime(datestring, '%a %b %d %H:%M:%S +0000 %Y')\n",
    "    \n",
    "    if 'utc' in tzstr.lower():\n",
    "        tz = timezone('UTC')\n",
    "        return tz.localize(created_at)\n",
    "\n",
    "    if 'eastern' in tzstr.lower() or 'est'==tzstr.lower():\n",
    "        tz = timezone('US/Eastern')\n",
    "        return tz.localize(created_at)\n",
    "    \n",
    "def unix_time(dt):\n",
    "    epoch = datetime.utcfromtimestamp(0)\n",
    "    delta = dt - epoch\n",
    "    return delta.total_seconds()\n",
    "    "
   ]
  },
  {
   "cell_type": "markdown",
   "metadata": {},
   "source": [
    "Put your twitter authentication creds in a json file , like:\n",
    "\n",
    "    {\"csecret\": \"xxxxxxxx\", \"ckey\": \"xxxxxxxxxx\", \"asecret\": \"xxxxxxxxxx\", \"atoken\": \"xxxxxxxxxx\"}"
   ]
  },
  {
   "cell_type": "code",
   "execution_count": 17,
   "metadata": {
    "collapsed": true
   },
   "outputs": [],
   "source": [
    "with open('../../auth.json') as fid:\n",
    "    auth_data=json.load(fid)\n",
    "    \n",
    "ckey,csecret,atoken,asecret=[auth_data[key]\n",
    "                             for key in ['ckey','csecret','atoken','asecret']]    "
   ]
  },
  {
   "cell_type": "code",
   "execution_count": 18,
   "metadata": {
    "collapsed": false
   },
   "outputs": [
    {
     "name": "stdout",
     "output_type": "stream",
     "text": [
      "Starting Fresh...\n"
     ]
    }
   ],
   "source": [
    "global mydata,last_save_time,start_time,onedata\n",
    "\n",
    "\n",
    "\n",
    "\n",
    "if os.path.exists(save_fname):\n",
    "    print \"Starting with %s...\" % save_fname\n",
    "    \n",
    "    try:\n",
    "        with gzip.open(save_fname,'r') as fid:\n",
    "            mcmc_data=json.load(fid)\n",
    "    except IOError:\n",
    "        with open(save_fname,'r') as fid:\n",
    "            mcmc_data=json.load(fid)\n",
    "else:\n",
    "    print \"Starting Fresh...\"\n",
    "    mydata={}\n",
    "    \n",
    "start_time=None\n",
    "last_save_time=-1000"
   ]
  },
  {
   "cell_type": "code",
   "execution_count": null,
   "metadata": {
    "collapsed": false
   },
   "outputs": [],
   "source": [
    "class listener(StreamListener):\n",
    "\n",
    "    def on_data(self, data):\n",
    "        global mydata,last_save_time,start_time,onedata\n",
    "        \n",
    "        false=False\n",
    "        true=True\n",
    "        null=None        \n",
    "        data=eval(data)  # change json to dictionary\n",
    "        \n",
    "        try:\n",
    "            timestr=data['created_at']\n",
    "        except KeyError:\n",
    "            return True\n",
    "            \n",
    "        hashtags=[x['text'] for x in data['entities']['hashtags']]\n",
    "        \n",
    "        onedata=data\n",
    "        \n",
    "        if not hashtags:\n",
    "            return True\n",
    "\n",
    "        with open(\"../data/raw_tweet_lines.txt\",\"a\") as fid:\n",
    "            line=\"%s,%s,%s\\n\" % (timestr,str(data['geo']),str(hashtags))\n",
    "            fid.write(line)\n",
    "                      \n",
    "        print line\n",
    "        \n",
    "        dt=to_datetime(timestr)\n",
    "        dt = dt.replace(tzinfo=None)        \n",
    "        dt=unix_time(dt)\n",
    "            \n",
    "        for tag in hashtags:\n",
    "            if tag not in mydata:                \n",
    "                mydata[tag]={'x':[],'y':[],}\n",
    "        \n",
    "            try:\n",
    "                idx=mydata[tag]['x'].index(dt)\n",
    "                mydata[tag]['y'][idx]+=1\n",
    "            except ValueError:                \n",
    "                mydata[tag]['x'].append(dt)\n",
    "                mydata[tag]['y'].append(1)\n",
    "        \n",
    "            mydata[tag]['geo']=data['geo']\n",
    "            \n",
    "        print dt,data['geo'],hashtags\n",
    "        \n",
    "        if time()>(last_save_time+time_between_save):\n",
    "            last_save_time=time()\n",
    "            \n",
    "            if '.gz' in save_fname:\n",
    "                with gzip.open(save_fname,'w') as fid:\n",
    "                    json.dump(mydata,fid)    \n",
    "            else:\n",
    "                with open(save_fname,'w') as fid:\n",
    "                    json.dump(mydata,fid)\n",
    "                    \n",
    "            print \"All data Saved...\"\n",
    "        \n",
    "        return True\n",
    "\n",
    "    def on_error(self, status):\n",
    "        print \"on_error called: \",status\n",
    "        sys.stdout.flush()\n",
    "\n",
    "\n",
    "def start_listening():\n",
    "    L=listener()\n",
    "    twitterStream = Stream(auth, L)\n",
    "    twitterStream.filter(track=[\"#\"])\n"
   ]
  },
  {
   "cell_type": "code",
   "execution_count": null,
   "metadata": {
    "collapsed": false
   },
   "outputs": [
    {
     "name": "stdout",
     "output_type": "stream",
     "text": [
      "Thu May 19 16:48:10 +0000 2016,None,['joliemaman']\n",
      "\n",
      "1463676490.0 None ['joliemaman']\n",
      "All data Saved...\n",
      "Thu May 19 16:48:11 +0000 2016,None,['KinKiKids\\\\u306e\\\\u30d6\\\\u30f3\\\\u30d6\\\\u30d6\\\\u30fc\\\\u30f3', 'KTN']\n",
      "\n",
      "1463676491.0 None ['KinKiKids\\\\u306e\\\\u30d6\\\\u30f3\\\\u30d6\\\\u30d6\\\\u30fc\\\\u30f3', 'KTN']\n",
      "Thu May 19 16:48:12 +0000 2016,None,['SwimWays']\n",
      "\n",
      "1463676492.0 None ['SwimWays']\n",
      "Thu May 19 16:48:13 +0000 2016,None,['instagram', 'sonamakapoor', 'SonamKapoor']\n",
      "\n",
      "1463676493.0 None ['instagram', 'sonamakapoor', 'SonamKapoor']\n",
      "Thu May 19 16:48:14 +0000 2016,None,['jobs', 'Home']\n",
      "\n",
      "1463676494.0 None ['jobs', 'Home']\n",
      "Thu May 19 16:48:20 +0000 2016,None,['aiaparklet', 'aiacon2016']\n",
      "\n",
      "1463676500.0 None ['aiaparklet', 'aiacon2016']\n",
      "Thu May 19 16:48:21 +0000 2016,None,['\\\\u041c\\\\u0427\\\\u0421\\\\u0421\\\\u041e\\\\u041e\\\\u0411\\\\u0429\\\\u0410\\\\u0415\\\\u0422', '\\\\u0423\\\\u043b\\\\u044c\\\\u044f\\\\u043d\\\\u043e\\\\u0432\\\\u0441\\\\u043a']\n",
      "\n",
      "1463676501.0 None ['\\\\u041c\\\\u0427\\\\u0421\\\\u0421\\\\u041e\\\\u041e\\\\u0411\\\\u0429\\\\u0410\\\\u0415\\\\u0422', '\\\\u0423\\\\u043b\\\\u044c\\\\u044f\\\\u043d\\\\u043e\\\\u0432\\\\u0441\\\\u043a']\n",
      "Thu May 19 16:48:22 +0000 2016,None,['BW_Chat']\n",
      "\n",
      "1463676502.0 None ['BW_Chat']\n",
      "Thu May 19 16:48:21 +0000 2016,None,['Huelga']\n",
      "\n",
      "1463676501.0 None ['Huelga']\n",
      "Thu May 19 16:48:26 +0000 2016,None,['porn', 'nude', 'porno', 'pussy', 'dp', 'dp', 'big', 'cumshot', 'blowjob', 'ass', 'swallow']\n",
      "\n",
      "1463676506.0 None ['porn', 'nude', 'porno', 'pussy', 'dp', 'dp', 'big', 'cumshot', 'blowjob', 'ass', 'swallow']\n",
      "Thu May 19 16:48:26 +0000 2016,None,['job', 'IT', 'jobs']\n",
      "\n",
      "1463676506.0 None ['job', 'IT', 'jobs']\n",
      "Thu May 19 16:48:26 +0000 2016,None,['RT\\\\u3057\\\\u305f\\\\u4eba\\\\u5168\\\\u54e1\\\\u30d5\\\\u30a9', '\\\\u30ea\\\\u30d5\\\\u30a9\\\\u30ed\\\\u30fc', '\\\\u76f8\\\\u4e92\\\\u30d5\\\\u30a9\\\\u30ed\\\\u30fc\\\\u52df\\\\u96c6', '\\\\u76f8\\\\u4e92\\\\u5e0c', 'sougofollow', 'followme', 'followmejp', 'followback', 'refollow', 'sougo']\n",
      "\n",
      "1463676506.0 None ['RT\\\\u3057\\\\u305f\\\\u4eba\\\\u5168\\\\u54e1\\\\u30d5\\\\u30a9', '\\\\u30ea\\\\u30d5\\\\u30a9\\\\u30ed\\\\u30fc', '\\\\u76f8\\\\u4e92\\\\u30d5\\\\u30a9\\\\u30ed\\\\u30fc\\\\u52df\\\\u96c6', '\\\\u76f8\\\\u4e92\\\\u5e0c', 'sougofollow', 'followme', 'followmejp', 'followback', 'refollow', 'sougo']\n",
      "Thu May 19 16:48:27 +0000 2016,None,['\\\\u0627\\\\u062d\\\\u0641\\\\u0638_\\\\u0627\\\\u0644\\\\u0644\\\\u0647_\\\\u064a\\\\u062d\\\\u0641\\\\u0638\\\\u0643']\n",
      "\n",
      "1463676507.0 None ['\\\\u0627\\\\u062d\\\\u0641\\\\u0638_\\\\u0627\\\\u0644\\\\u0644\\\\u0647_\\\\u064a\\\\u062d\\\\u0641\\\\u0638\\\\u0643']\n",
      "Thu May 19 16:48:27 +0000 2016,None,['job', 'IT', 'jobs']\n",
      "\n",
      "1463676507.0 None ['job', 'IT', 'jobs']\n",
      "Thu May 19 16:48:27 +0000 2016,None,['\\\\u0635\\\\u0648\\\\u0631\\\\u064a', '\\\\u062a\\\\u0635\\\\u0648\\\\u064a\\\\u0631\\\\u064a', '\\\\u0627\\\\u0644\\\\u0631\\\\u064a\\\\u0627\\\\u0636', '\\\\u0631\\\\u0642\\\\u0635', 'my']\n",
      "\n",
      "1463676507.0 None ['\\\\u0635\\\\u0648\\\\u0631\\\\u064a', '\\\\u062a\\\\u0635\\\\u0648\\\\u064a\\\\u0631\\\\u064a', '\\\\u0627\\\\u0644\\\\u0631\\\\u064a\\\\u0627\\\\u0636', '\\\\u0631\\\\u0642\\\\u0635', 'my']\n",
      "Thu May 19 16:48:34 +0000 2016,None,['HowTo']\n",
      "\n",
      "1463676514.0 None ['HowTo']\n",
      "Thu May 19 16:48:34 +0000 2016,None,['Sarabjit', 'must']\n",
      "\n",
      "1463676514.0 None ['Sarabjit', 'must']\n",
      "Thu May 19 16:48:31 +0000 2016,None,['\\\\u0627\\\\u0646\\\\u0642\\\\u0630\\\\u0648\\\\u0627_\\\\u0636\\\\u062d\\\\u0627\\\\u064a\\\\u0627_\\\\u0639\\\\u062c\\\\u0644\\\\u0627\\\\u0646_\\\\u0648\\\\u0627\\\\u062e\\\\u0648\\\\u0627\\\\u0646\\\\u0647', '\\\\u0645\\\\u062a\\\\u0636\\\\u0631\\\\u0631\\\\u064a_\\\\u0645\\\\u0627\\\\u0646_\\\\u062f\\\\u064a\\\\u0641\\\\u0627\\\\u0646']\n",
      "\n",
      "1463676511.0 None ['\\\\u0627\\\\u0646\\\\u0642\\\\u0630\\\\u0648\\\\u0627_\\\\u0636\\\\u062d\\\\u0627\\\\u064a\\\\u0627_\\\\u0639\\\\u062c\\\\u0644\\\\u0627\\\\u0646_\\\\u0648\\\\u0627\\\\u062e\\\\u0648\\\\u0627\\\\u0646\\\\u0647', '\\\\u0645\\\\u062a\\\\u0636\\\\u0631\\\\u0631\\\\u064a_\\\\u0645\\\\u0627\\\\u0646_\\\\u062f\\\\u064a\\\\u0641\\\\u0627\\\\u0646']\n",
      "Thu May 19 16:48:35 +0000 2016,None,['Moufanet']\n",
      "\n",
      "1463676515.0 None ['Moufanet']\n",
      "Thu May 19 16:48:35 +0000 2016,None,['OnlyTrump', 'dtmag', 'BikersForTrump', 'AlwaysTrump']\n",
      "\n",
      "1463676515.0 None ['OnlyTrump', 'dtmag', 'BikersForTrump', 'AlwaysTrump']\n",
      "Thu May 19 16:48:38 +0000 2016,None,['SoMilfy']\n",
      "\n",
      "1463676518.0 None ['SoMilfy']\n",
      "Thu May 19 16:48:39 +0000 2016,None,['MULTINAZIONALI', 'SALUTE', 'CURIOSITA', 'vaccini']\n",
      "\n",
      "1463676519.0 None ['MULTINAZIONALI', 'SALUTE', 'CURIOSITA', 'vaccini']\n",
      "Thu May 19 16:48:40 +0000 2016,None,['KuFu98', 'Vaajakoski', 'KUFVAA']\n",
      "\n",
      "1463676520.0 None ['KuFu98', 'Vaajakoski', 'KUFVAA']\n",
      "Thu May 19 16:48:40 +0000 2016,None,['SriPeetharohana']\n",
      "\n",
      "1463676520.0 None ['SriPeetharohana']\n",
      "Thu May 19 16:48:40 +0000 2016,None,['KuFu98', 'Vaajakoski', 'KUFVAA']\n",
      "\n",
      "1463676520.0 None ['KuFu98', 'Vaajakoski', 'KUFVAA']\n",
      "Thu May 19 16:48:40 +0000 2016,None,['\\\\u30a8\\\\u30ed\\\\u30a2\\\\u30cb\\\\u30e1', '\\\\u30a2\\\\u30d8\\\\u9854', '\\\\u304a\\\\u3057\\\\u3063\\\\u3053\\\\u6f6e\\\\u5439\\\\u304d', '\\\\u30b9\\\\u30c8\\\\u30c3\\\\u30ad\\\\u30f3\\\\u30b0\\\\u30bf\\\\u30a4\\\\u30c4', '\\\\u30c4\\\\u30a4\\\\u30f3\\\\u30c6\\\\u30fc\\\\u30eb', '\\\\u5236\\\\u670d']\n",
      "\n",
      "1463676520.0 None ['\\\\u30a8\\\\u30ed\\\\u30a2\\\\u30cb\\\\u30e1', '\\\\u30a2\\\\u30d8\\\\u9854', '\\\\u304a\\\\u3057\\\\u3063\\\\u3053\\\\u6f6e\\\\u5439\\\\u304d', '\\\\u30b9\\\\u30c8\\\\u30c3\\\\u30ad\\\\u30f3\\\\u30b0\\\\u30bf\\\\u30a4\\\\u30c4', '\\\\u30c4\\\\u30a4\\\\u30f3\\\\u30c6\\\\u30fc\\\\u30eb', '\\\\u5236\\\\u670d']\n",
      "Thu May 19 16:48:43 +0000 2016,None,['CICPCvuelvanCARAS']\n",
      "\n",
      "1463676523.0 None ['CICPCvuelvanCARAS']\n",
      "Thu May 19 16:48:43 +0000 2016,None,['Bangladesh', 'CycloneROANU', 'weather', 'NaturalDisasters']\n",
      "\n",
      "1463676523.0 None ['Bangladesh', 'CycloneROANU', 'weather', 'NaturalDisasters']\n",
      "Thu May 19 16:48:43 +0000 2016,None,['SriPeetharohana']\n",
      "\n",
      "1463676523.0 None ['SriPeetharohana']\n",
      "Thu May 19 16:48:43 +0000 2016,None,['CICPCvuelvanCARAS']\n",
      "\n",
      "1463676523.0 None ['CICPCvuelvanCARAS']\n",
      "Thu May 19 16:48:44 +0000 2016,None,['CICPCvuelvanCARAS']\n",
      "\n",
      "1463676524.0 None ['CICPCvuelvanCARAS']\n",
      "Thu May 19 16:48:44 +0000 2016,None,['jobs', 'Canada', 'QA', 'QC']\n"
     ]
    }
   ],
   "source": [
    "auth = OAuthHandler(ckey, csecret)\n",
    "auth.set_access_token(atoken, asecret)\n",
    "start_listening()"
   ]
  },
  {
   "cell_type": "code",
   "execution_count": null,
   "metadata": {
    "collapsed": true
   },
   "outputs": [],
   "source": []
  }
 ],
 "metadata": {
  "kernelspec": {
   "display_name": "Python 2",
   "language": "python",
   "name": "python2"
  },
  "language_info": {
   "codemirror_mode": {
    "name": "ipython",
    "version": 2
   },
   "file_extension": ".py",
   "mimetype": "text/x-python",
   "name": "python",
   "nbconvert_exporter": "python",
   "pygments_lexer": "ipython2",
   "version": "2.7.11"
  }
 },
 "nbformat": 4,
 "nbformat_minor": 0
}
